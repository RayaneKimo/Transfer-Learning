{
  "cells": [
    {
      "cell_type": "markdown",
      "metadata": {
        "id": "DlAfI8mCWAf3"
      },
      "source": [
        "<center><h2> Transfer learning for NLP</h2></center>\n",
        "\n",
        "<br><br>\n",
        "In this work I will:\n",
        "* Implement and pretrain a language model with transformer architecture.\n",
        "* Use the pretrained model (transfer learning) to perform a sentiment analysis task which consists of classifying some books reviews into positive and negative ones.\n",
        "* Compare the performance of the pretrained model to a model trained from scratch.\n",
        " <br>"
      ]
    },
    {
      "cell_type": "code",
      "execution_count": 2,
      "metadata": {
        "id": "IqukuIe0Rb_c"
      },
      "outputs": [],
      "source": [
        "import math\n",
        "\n",
        "import torch\n",
        "import torch.nn as nn\n",
        "from torch.nn.utils.rnn import pad_sequence\n",
        "\n",
        "device = torch.device(\"cuda\" if torch.cuda.is_available() else \"cpu\")"
      ]
    },
    {
      "cell_type": "markdown",
      "metadata": {
        "id": "5FF6fjkqgN39"
      },
      "source": [
        "## __The Model__"
      ]
    },
    {
      "cell_type": "markdown",
      "source": [
        "__The next code implements a transformer-based model for text classification. It allows for the transfer learning of the transformer model on a specific classification task by adding a classification head on top of the pretrained transformer__"
      ],
      "metadata": {
        "id": "FOUbcTp1da83"
      }
    },
    {
      "cell_type": "code",
      "execution_count": 3,
      "metadata": {
        "id": "p0cj9WkSFQwl"
      },
      "outputs": [],
      "source": [
        "class TransformerModel(nn.Module):\n",
        "    def __init__(self, ntoken, nhead, nhid, nlayers, dropout=0.5):\n",
        "        super(TransformerModel, self).__init__()\n",
        "        '''\n",
        "        ntokens: the size of vocabulary\n",
        "        nhid: the hidden dimension of the model.\n",
        "        We assume that embedding_dim = nhid\n",
        "        nlayers: the number of nn.TransformerEncoderLayer in nn.TransformerEncoder\n",
        "        nhead: the number of heads in the multiheadattention models\n",
        "        dropout: the dropout value\n",
        "         '''\n",
        "        self.model_type = \"Transformer\"\n",
        "        # The encoder\n",
        "        self.encoder = nn.Embedding(ntoken, nhid)  # We initialise the embedding matrix representing our vocab as a (ntoken, nhid) dimension\n",
        "        self.pos_encoder = PositionalEncoding(nhid, dropout)\n",
        "        encoder_layers = nn.TransformerEncoderLayer(nhid, nhead, nhid, dropout=dropout) # we define the architecture of one encoder layer with a dropout in order to freeze some random weights from adjusting during the training process.\n",
        "        self.transformer_encoder = nn.TransformerEncoder(encoder_layers, nlayers)  # we stack the encoder layers\n",
        "        self.nhid = nhid\n",
        "        self.init_weights()\n",
        "\n",
        "    def generate_square_subsequent_mask(self, sz):\n",
        "        mask = (torch.triu(torch.ones(sz, sz)) == 1).transpose(0, 1)\n",
        "        mask = (\n",
        "            mask.float()\n",
        "            .masked_fill(mask == 0, float(\"-inf\"))\n",
        "            .masked_fill(mask == 1, float(0.0))\n",
        "        )\n",
        "        return mask\n",
        "\n",
        "    def init_weights(self):\n",
        "        initrange = 0.1\n",
        "        self.encoder.weight.data.uniform_(-initrange, initrange)\n",
        "\n",
        "    def forward(self, src, src_mask): # pass the input throw the \"Base model\"\n",
        "        src = self.encoder(src) * math.sqrt(self.nhid)\n",
        "        src = self.pos_encoder(src)\n",
        "        output= self.transformer_encoder(src, src_mask)\n",
        "        return output\n",
        "\n",
        "\n",
        "class ClassificationHead(nn.Module):\n",
        "    def __init__(self, nhid, nclasses):  # Define the specific classification head\n",
        "        super(ClassificationHead, self).__init__()\n",
        "        self.decoder = nn.Linear(nhid, nclasses) # Pass the transformer results in order to predict the class as output\n",
        "        self.init_weights()\n",
        "\n",
        "    def init_weights(self):\n",
        "        initrange = 0.1\n",
        "        self.decoder.bias.data.zero_()\n",
        "        self.decoder.weight.data.uniform_(-initrange, initrange)\n",
        "\n",
        "    def forward(self, src):\n",
        "        output = self.decoder(src)\n",
        "        return output\n",
        "\n",
        "class Model(nn.Module): # We stack all together\n",
        "    def __init__(self, ntoken, nhead, nhid, nlayers, nclasses, dropout=0.5):\n",
        "        super(Model, self).__init__()\n",
        "        self.base = TransformerModel(ntoken, nhead, nhid, nlayers, dropout)\n",
        "        self.classifier = ClassificationHead(nhid, nclasses)\n",
        "\n",
        "    def forward(self, src, src_mask):\n",
        "\n",
        "        x = self.base(src, src_mask) # pass throw the \"Base model\" for meaning assessing and textual relationships gathering\n",
        "        output = self.classifier(x) # get output from the previous body and guess the class with the classification head\n",
        "        return output"
      ]
    },
    {
      "cell_type": "markdown",
      "source": [
        "__The next class provides a way to add positional encodings to input sequences, which is essential for capturing the sequential order of tokens in transformer models. The positional encodings are added to the input embeddings before feeding them into the transformer model.__\n",
        "\n",
        "\n",
        "\n",
        "\n",
        "\n"
      ],
      "metadata": {
        "id": "GXH7C9Xgd5V2"
      }
    },
    {
      "cell_type": "code",
      "execution_count": 5,
      "metadata": {
        "id": "kt2QQohaFZry"
      },
      "outputs": [],
      "source": [
        "class PositionalEncoding(nn.Module):\n",
        "    def __init__(self, nhid, dropout=0.1, max_len=5000):\n",
        "        super(PositionalEncoding, self).__init__()\n",
        "        self.dropout = nn.Dropout(p=dropout)\n",
        "\n",
        "        pe = torch.zeros(max_len, nhid)\n",
        "        position = torch.arange(0, max_len, dtype=torch.float).unsqueeze(1)\n",
        "        div_term = torch.exp(\n",
        "            torch.arange(0, nhid, 2).float() * (-math.log(10000.0) / nhid)\n",
        "        )\n",
        "        pe[:, 0::2] = torch.sin(position * div_term)\n",
        "        pe[:, 1::2] = torch.cos(position * div_term)\n",
        "        pe = pe.unsqueeze(0).transpose(0, 1)\n",
        "        self.register_buffer(\"pe\", pe)\n",
        "\n",
        "    def forward(self, x):\n",
        "        x = x + self.pe[: x.size(0), :]\n",
        "        return self.dropout(x)"
      ]
    },
    {
      "cell_type": "markdown",
      "metadata": {
        "id": "SfEYHJx2JW6l"
      },
      "source": [
        "__Let's verify if our model works, by applying one inference step__"
      ]
    },
    {
      "cell_type": "code",
      "execution_count": 6,
      "metadata": {
        "id": "rhb2gkUhJMR0",
        "colab": {
          "base_uri": "https://localhost:8080/"
        },
        "outputId": "f4f71dd1-870f-46dc-e8d1-85a3dea91fd5"
      },
      "outputs": [
        {
          "output_type": "stream",
          "name": "stderr",
          "text": [
            "/usr/local/lib/python3.10/dist-packages/torch/nn/modules/transformer.py:282: UserWarning: enable_nested_tensor is True, but self.use_nested_tensor is False because encoder_layer.self_attn.batch_first was not True(use batch_first for better inference performance)\n",
            "  warnings.warn(f\"enable_nested_tensor is True, but self.use_nested_tensor is False because {why_not_sparsity_fast_path}\")\n"
          ]
        },
        {
          "output_type": "stream",
          "name": "stdout",
          "text": [
            "torch.Size([1, 6, 100])\n"
          ]
        }
      ],
      "source": [
        "ntokens = 100 # the size of vocabulary\n",
        "nhid = 200  # hidden dimension\n",
        "nlayers = 4  # the number of nn.TransformerEncoderLayer in nn.TransformerEncoder\n",
        "nhead = 2  # the number of heads in the multiheadattention models\n",
        "dropout = 0  # the dropout value\n",
        "\n",
        "model = Model(ntokens, nhead, nhid, nlayers, ntokens, dropout).to(device)\n",
        "dummy_input = torch.tensor([[2, 6, 2, 5, 43, 21]]).to(device)\n",
        "src_mask = model.base.generate_square_subsequent_mask(1).to(device)\n",
        "out = model.forward(dummy_input, src_mask)\n",
        "\n",
        "print(out.shape)"
      ]
    },
    {
      "cell_type": "markdown",
      "source": [
        "__The shape is right because when we perform a Language modeling task, the classifier take vector of length \"nhid\" and try to guess the next work by predicting probabilities over all the vocabulary of size \"ntokens\". Then we just take the index of the max__"
      ],
      "metadata": {
        "id": "ajGl10jZWPgk"
      }
    },
    {
      "cell_type": "markdown",
      "metadata": {
        "id": "i74NN897Fcit"
      },
      "source": [
        "## __Vocabulary and Tokenization__"
      ]
    },
    {
      "cell_type": "markdown",
      "source": [
        "### ___Dowload the vocabulary___"
      ],
      "metadata": {
        "id": "ZyE6zgIdehay"
      }
    },
    {
      "cell_type": "code",
      "execution_count": null,
      "metadata": {
        "id": "5qjd26ghWuff"
      },
      "outputs": [],
      "source": [
        "!wget https://raw.githubusercontent.com/moussaKam/transfer_learning_transformers/main/dict.txt\n",
        "!head -5 dict.txt"
      ]
    },
    {
      "cell_type": "markdown",
      "source": [
        "__In the next code we will prepare the vocabulary file, extracts information from it to create mappings between tokens and indices, and prints a token for verification purposes.__"
      ],
      "metadata": {
        "id": "XrHGKfkrezTs"
      }
    },
    {
      "cell_type": "code",
      "execution_count": 8,
      "metadata": {
        "id": "vFdH_-JeFbGA",
        "colab": {
          "base_uri": "https://localhost:8080/"
        },
        "outputId": "9d15ba90-1556-4e73-e928-e0c7bb468475"
      },
      "outputs": [
        {
          "output_type": "stream",
          "name": "stdout",
          "text": [
            "▁d\n"
          ]
        }
      ],
      "source": [
        "path_vocab = \"dict.txt\"\n",
        "ind2token = {}\n",
        "token2ind = {\"<sos>\": 0, \"<pad>\": 1, \"<eos>\": 2, \"<oov>\": 3} # the 4 first indices are reserved to special tokens\n",
        "with open(path_vocab, \"r\") as f:\n",
        "    for index, line in enumerate(f):\n",
        "        word = line.split()[0].strip()\n",
        "        # token to index\n",
        "        token2ind[word] = index + 4 # We index our vocab starting from the 4th index. This is used in order to encode the sentence for the feed forward\n",
        "\n",
        "# index to token\n",
        "ind2token = {v: k for k, v in token2ind.items()}  # This is used for decoding a sentence.\n",
        "\n",
        "print(ind2token[4])"
      ]
    },
    {
      "cell_type": "markdown",
      "metadata": {
        "id": "XOExGODajN8p"
      },
      "source": [
        "## __Data Loader__\n"
      ]
    },
    {
      "cell_type": "markdown",
      "source": [
        "__Now we define a PyTorch dataset class and data loader for our NLP tasks, specifically for language modeling and classification. The dataset reads text documents and, if applicable, corresponding labels from files. It tokenizes the input sequences, processes them based on the specified task, and provides the data in batches using PyTorch's DataLoader.__"
      ],
      "metadata": {
        "id": "UDqkj3MwfcGJ"
      }
    },
    {
      "cell_type": "code",
      "execution_count": 9,
      "metadata": {
        "id": "Y0jN-Ar9i5Q1"
      },
      "outputs": [],
      "source": [
        "import numpy\n",
        "import torch\n",
        "from torch.nn.utils.rnn import pad_sequence\n",
        "from torch.utils.data import DataLoader, Dataset\n",
        "\n",
        "\n",
        "class Dataset(Dataset):\n",
        "    def __init__(\n",
        "        self,\n",
        "        path_documents,\n",
        "        path_labels=None,\n",
        "        token2ind={},\n",
        "        max_len=512,\n",
        "        task=\"language_modeling\",\n",
        "    ):\n",
        "        self.task = task\n",
        "        self.max_len = max_len\n",
        "        self.token2ind = token2ind\n",
        "        self.documents = []\n",
        "        self.labels = []\n",
        "        with open(path_documents, \"r\") as f1:\n",
        "            for line in f1:\n",
        "                self.documents.append(line.strip())\n",
        "        if task == \"classification\":\n",
        "            with open(path_labels, \"r\") as f1:\n",
        "                for line in f1:\n",
        "                    self.labels.append(int(line.strip()))\n",
        "            assert len(self.labels) == len(self.documents)\n",
        "\n",
        "    def __len__(self):\n",
        "        return len(self.documents)\n",
        "\n",
        "    def __getitem__(self, index):\n",
        "\n",
        "        # tokenize the input document\n",
        "        sequence = self.documents[index].split()\n",
        "        if len(sequence) > self.max_len - 1:\n",
        "            sequence = sequence[: self.max_len - 1]\n",
        "\n",
        "\n",
        "        source_sequence = [self.token2ind[\"<sos>\"]] #start our input with an sos\n",
        "        for token in sequence: # for each token\n",
        "            if token in self.token2ind: # if it is defined in our vocabulary\n",
        "                source_sequence.append(self.token2ind[token])  # we append it to the tokenised sequence\n",
        "            else:\n",
        "                source_sequence.append(self.token2ind[\"<oov>\"]) # else if we don't found the token we note as it is out of vocab\n",
        "\n",
        "\n",
        "        # target construction\n",
        "\n",
        "        if self.task == \"language_modeling\": # In this task we shift our output to the right in order to predict the next word based on the previous ones\n",
        "            target = source_sequence[1:] # shift right without taking the <sos>\n",
        "            target.append(self.token2ind[\"<eos>\"]) # add the end of sentence\n",
        "\n",
        "        elif self.task == \"classification\": # In this task the label would be the binary review classes\n",
        "            target = [self.labels[index]]\n",
        "        sample = {\n",
        "            \"source_sequence\": torch.tensor(source_sequence),\n",
        "            \"target\": torch.tensor(target),\n",
        "        }\n",
        "\n",
        "        return sample\n",
        "\n",
        "\n",
        "def MyCollator(batch):\n",
        "    source_sequences = pad_sequence(\n",
        "        #we use padding to match the length of the sequences in the same batch\n",
        "        [sample[\"source_sequence\"] for sample in batch], padding_value=token2ind[\"<pad>\"]\n",
        "    )\n",
        "    target = pad_sequence(\n",
        "        [sample[\"target\"] for sample in batch], padding_value=token2ind[\"<pad>\"]\n",
        "    )\n",
        "    return source_sequences, target.reshape(-1)\n",
        "\n",
        "\n",
        "def get_loader(\n",
        "    path_documents,\n",
        "    path_labels=None,\n",
        "    token2ind={},\n",
        "    max_len=512,\n",
        "    batch_size=32,\n",
        "    task=\"language_modeling\",\n",
        "):\n",
        "    dataset = Dataset(\n",
        "        path_documents,\n",
        "        path_labels=path_labels,\n",
        "        token2ind=token2ind,\n",
        "        max_len=512,\n",
        "        task=task,\n",
        "    )\n",
        "    data_loader = DataLoader(\n",
        "        dataset=dataset,\n",
        "        batch_size=batch_size,\n",
        "        shuffle=True,\n",
        "        collate_fn=MyCollator,\n",
        "        pin_memory=True,\n",
        "        drop_last=True,\n",
        "    )\n",
        "    return data_loader"
      ]
    },
    {
      "cell_type": "markdown",
      "metadata": {
        "id": "uTns4lHrjUTa"
      },
      "source": [
        "## __Training for Language Modeling task__"
      ]
    },
    {
      "cell_type": "markdown",
      "source": [
        "__Defining the train function designed for training a neural network model, particularly suited for our use case natural language processing tasks like language modeling or classification__"
      ],
      "metadata": {
        "id": "6cjD6PW1gIEX"
      }
    },
    {
      "cell_type": "code",
      "execution_count": 10,
      "metadata": {
        "id": "4_jwosiLjRsS"
      },
      "outputs": [],
      "source": [
        "def train(\n",
        "    path_data_train,\n",
        "    path_labels_train=None,\n",
        "    path_data_valid=None,\n",
        "    save_interval=-1,\n",
        "    log_interval=5,\n",
        "    task=\"language_modeling\",\n",
        "    batch_size=32,\n",
        "):\n",
        "    model.train()\n",
        "    total_loss = 0.0\n",
        "    ntokens = len(token2ind)\n",
        "    data_loader = get_loader(\n",
        "        path_data_train,\n",
        "        path_labels_train,\n",
        "        token2ind,\n",
        "        task=task,\n",
        "        batch_size=batch_size,\n",
        "    )\n",
        "\n",
        "    losses = []\n",
        "    for idx, data in enumerate(data_loader): # iterate over the data loader\n",
        "        optimizer.zero_grad()\n",
        "        src_mask = model.base.generate_square_subsequent_mask(data[0].size(0)).to(\n",
        "            device\n",
        "        )\n",
        "        input = data[0].to(device)\n",
        "        output = model(input, src_mask) # Feed forward\n",
        "        if task == 'classification':\n",
        "            #last vector only\n",
        "            output = output[-1]\n",
        "        output = output.view(-1, output.shape[-1])\n",
        "        target = data[1]\n",
        "        target = target.to(device)\n",
        "        loss = criterion(output, target) # Compute the loss on both prediction and the ground truth\n",
        "        loss.backward() # Feed backward the error for weight adjustment\n",
        "        torch.nn.utils.clip_grad_norm_(model.parameters(), 0.5) # prevent exploding gradient\n",
        "        optimizer.step()\n",
        "\n",
        "\n",
        "        total_loss += loss.item()\n",
        "        if idx % log_interval == 0 and idx > 0:\n",
        "            cur_loss = total_loss / log_interval\n",
        "            print(\n",
        "                \"| epoch {:3d} | {:5d}/{:5d} steps | \"\n",
        "                \"loss {:5.5f} | ppl {:8.3f}\".format(\n",
        "                    epoch, idx, len(data_loader), cur_loss, math.exp(cur_loss),\n",
        "                )\n",
        "            )\n",
        "            losses.append(cur_loss)\n",
        "            total_loss = 0\n",
        "    return losses"
      ]
    },
    {
      "cell_type": "code",
      "execution_count": 11,
      "metadata": {
        "id": "pgf6BDB9jUr6"
      },
      "outputs": [],
      "source": [
        "# vocab size\n",
        "ntokens = len(token2ind)\n",
        "nhid = 200  # the dimension of the feedforward network model in nn.TransformerEncoder\n",
        "nlayers = 4  # the number of nn.TransformerEncoderLayer in nn.TransformerEncoder\n",
        "nhead = 2  # the number of heads in the multiheadattention models\n",
        "dropout = 0  # the dropout value\n",
        "nclasses = 2 # for classification task only\n",
        "\n",
        "model = Model(ntokens, nhead, nhid, nlayers, ntokens, dropout).to(device) # initialise a language modeling model"
      ]
    },
    {
      "cell_type": "code",
      "execution_count": 12,
      "metadata": {
        "id": "u-OLy4KIkDwf"
      },
      "outputs": [],
      "source": [
        "# optimization paramerters\n",
        "criterion = nn.CrossEntropyLoss(ignore_index=token2ind['<pad>'])\n",
        "lr = 0.0003  # learning rate\n",
        "# optimizer = torch.optim.Adam(model.parameters(), lr=lr)\n",
        "optimizer = torch.optim.SGD(model.parameters(), lr=lr, momentum=0.9)"
      ]
    },
    {
      "cell_type": "code",
      "execution_count": null,
      "metadata": {
        "id": "Bwh3n9xZQy4e"
      },
      "outputs": [],
      "source": [
        "!wget https://raw.githubusercontent.com/moussaKam/transfer_learning_transformers/main/pretraining_subset.txt\n",
        "path_data_train = \"pretraining_subset.txt\""
      ]
    },
    {
      "cell_type": "code",
      "execution_count": 14,
      "metadata": {
        "id": "0m11g4ScjZaR",
        "colab": {
          "base_uri": "https://localhost:8080/"
        },
        "outputId": "e63fcc8c-201f-4e86-9894-40b722c2343f"
      },
      "outputs": [
        {
          "output_type": "stream",
          "name": "stdout",
          "text": [
            "| epoch   1 |   500/ 3125 steps | loss 10.77388 | ppl 47757.099\n",
            "| epoch   1 |  1000/ 3125 steps | loss 9.96632 | ppl 21296.896\n",
            "| epoch   1 |  1500/ 3125 steps | loss 9.38593 | ppl 11919.496\n",
            "| epoch   1 |  2000/ 3125 steps | loss 9.04643 | ppl 8488.157\n",
            "| epoch   1 |  2500/ 3125 steps | loss 8.79955 | ppl 6631.271\n",
            "| epoch   1 |  3000/ 3125 steps | loss 8.65075 | ppl 5714.426\n",
            "| epoch   2 |   500/ 3125 steps | loss 8.52672 | ppl 5047.856\n",
            "| epoch   2 |  1000/ 3125 steps | loss 8.42826 | ppl 4574.522\n",
            "| epoch   2 |  1500/ 3125 steps | loss 8.35164 | ppl 4237.114\n",
            "| epoch   2 |  2000/ 3125 steps | loss 8.30418 | ppl 4040.735\n",
            "| epoch   2 |  2500/ 3125 steps | loss 8.25864 | ppl 3860.836\n",
            "| epoch   2 |  3000/ 3125 steps | loss 8.18930 | ppl 3602.191\n"
          ]
        }
      ],
      "source": [
        "#pretraining on a tiny subset\n",
        "log_interval = 500\n",
        "epochs = 2\n",
        "for epoch in range(1, epochs + 1): #5\n",
        "    train(\n",
        "        path_data_train,\n",
        "        save_interval=-1,\n",
        "        task=\"language_modeling\",\n",
        "        batch_size=16,\n",
        "        log_interval=log_interval,\n",
        "    )"
      ]
    },
    {
      "cell_type": "markdown",
      "metadata": {
        "id": "MeOM1dOvkO4e"
      },
      "source": [
        "## __Text Generation__\n"
      ]
    },
    {
      "cell_type": "code",
      "execution_count": null,
      "metadata": {
        "id": "-BcBC6FSkMH3"
      },
      "outputs": [],
      "source": [
        "!wget https://raw.githubusercontent.com/moussaKam/transfer_learning_transformers/main/pretrained_model_4layers.pt\n",
        "\n",
        "model = Model(ntokens, nhead, nhid, nlayers, ntokens).to(device)\n",
        "\n",
        "#load the checkpoint\n",
        "checkpoint = torch.load('pretrained_model_4layers.pt')\n",
        "#load state dict\n",
        "model.load_state_dict(checkpoint['model_state_dict'])"
      ]
    },
    {
      "cell_type": "markdown",
      "source": [
        "__Using \"SentencePiece\", a library for subword tokenization, by loading a pre-trained French model, try to encode a sample sentence into subword pieces, and then decoding it back to the original form.__"
      ],
      "metadata": {
        "id": "DJg3-8dsiFrf"
      }
    },
    {
      "cell_type": "code",
      "execution_count": null,
      "metadata": {
        "id": "tBRRVsWqlIoQ"
      },
      "outputs": [],
      "source": [
        "!pip install sentencepiece   # uncomment this if you are using google colab\n",
        "!wget https://raw.githubusercontent.com/moussaKam/transfer_learning_transformers/main/sentencepiece.french.model\n",
        "\n",
        "import sentencepiece as spm\n",
        "\n",
        "s = spm.SentencePieceProcessor(model_file='sentencepiece.french.model') #load sentencepiece model\n",
        "\n",
        "#examples\n",
        "encoded = s.encode_as_pieces(\"Bonjour les amis!\")\n",
        "decoded = s.decode_pieces(encoded)\n",
        "print(encoded)\n",
        "print(decoded)"
      ]
    },
    {
      "cell_type": "code",
      "execution_count": 17,
      "metadata": {
        "id": "TtLlV05pkQI3"
      },
      "outputs": [],
      "source": [
        "def infer_next_token(sent):\n",
        "    model.eval()\n",
        "    sent_pieces = s.encode_as_pieces(sent)\n",
        "    source = [token2ind[\"<sos>\"]] + [token2ind[el] for el in sent_pieces] # list of tokens\n",
        "    source = torch.tensor(source).to(device)\n",
        "    source = source.reshape(-1, 1)\n",
        "    src_mask = model.base.generate_square_subsequent_mask(source.size(0)).to(device)\n",
        "    out = model(source, src_mask)\n",
        "    next_token_ind = torch.argmax(out[-1, :, :], dim=1)\n",
        "\n",
        "    return next_token_ind, out\n",
        "\n",
        "\n",
        "def infer_next_tokens(sent, max_len=50):\n",
        "    generated_tokens = sent # create the varibale to store the whole sentence progressively\n",
        "    for _ in range(max_len):\n",
        "        infered_ind, out = infer_next_token(generated_tokens) # make an inference\n",
        "        next_token = ind2token[infered_ind.item()] #\n",
        "        next_token = s.decode_pieces([next_token]) #stringify the next token\n",
        "        if next_token == \"<eos>\":\n",
        "            break  # Stop generation\n",
        "\n",
        "        generated_tokens += \" \" + next_token # add the generated token to append the sentence\n",
        "\n",
        "    return print(generated_tokens)\n"
      ]
    },
    {
      "cell_type": "code",
      "execution_count": 24,
      "metadata": {
        "id": "f83Nn5nSly4v",
        "colab": {
          "base_uri": "https://localhost:8080/"
        },
        "outputId": "4bb49adc-2c1a-46f5-86a7-72e4b5c09157"
      },
      "outputs": [
        {
          "output_type": "stream",
          "name": "stdout",
          "text": [
            "Cette maîtresse a été tuée par le jeune homme .\n"
          ]
        }
      ],
      "source": [
        "sent = \"Cette maîtresse\"\n",
        "infer_next_tokens(sent)"
      ]
    },
    {
      "cell_type": "markdown",
      "metadata": {
        "id": "Lp7mjVzomoZ3"
      },
      "source": [
        "### __Supervised task__"
      ]
    },
    {
      "cell_type": "markdown",
      "source": [
        "__Data for a classification task is being downloaded from the specified URLs__"
      ],
      "metadata": {
        "id": "lhUPhc7TjejP"
      }
    },
    {
      "cell_type": "code",
      "execution_count": null,
      "metadata": {
        "id": "0K1BZsblmEmx"
      },
      "outputs": [],
      "source": [
        "!wget https://raw.githubusercontent.com/moussaKam/transfer_learning_transformers/main/cls-books/train.review.spm\n",
        "!wget https://raw.githubusercontent.com/moussaKam/transfer_learning_transformers/main/cls-books/train.label\n",
        "!wget https://raw.githubusercontent.com/moussaKam/transfer_learning_transformers/main/cls-books/test.review.spm\n",
        "!wget https://raw.githubusercontent.com/moussaKam/transfer_learning_transformers/main/cls-books/test.label\n",
        "\n",
        "path_data_train = \"train.review.spm\"\n",
        "path_labels_train = \"train.label\"\n",
        "\n",
        "path_data_valid = \"test.review.spm\"\n",
        "path_labels_valid = \"test.label\""
      ]
    },
    {
      "cell_type": "code",
      "execution_count": 27,
      "metadata": {
        "id": "_MLfvjiom2SL"
      },
      "outputs": [],
      "source": [
        "# evaluate the validation accuracy of the model.\n",
        "def evaluate_accuracy(data_loader): # this puts the model on the evaluation mode by turning off some features like dropout\n",
        "    model.eval() #\n",
        "    total_acc = 0\n",
        "    total_count = 0\n",
        "    for idx, data in enumerate(data_loader): # iterate over batches\n",
        "        src_mask = model.base.generate_square_subsequent_mask(data[0].size(0)).to(\n",
        "            device\n",
        "        )  # generate a mask\n",
        "        input = data[0].to(device)\n",
        "        output = model(input, src_mask) # make an inference\n",
        "        output = output[-1] # take the last vector\n",
        "        output = torch.argmax(output, dim=1) # grid search: taking the index with the max probability over the dim 1 (0 for the batches)\n",
        "        target = data[1]\n",
        "        target = target.to(device)\n",
        "        acc = torch.sum(output == target).item() # take the correct predictions\n",
        "        total_acc += acc\n",
        "        total_count += len(target)\n",
        "    return total_acc / total_count\n",
        "\n"
      ]
    },
    {
      "cell_type": "code",
      "execution_count": 28,
      "metadata": {
        "id": "qzmx7T7xoa6v"
      },
      "outputs": [],
      "source": [
        "#save the base model to be loaded later in the fine-tuning phase\n",
        "torch.save({\"model_state_dict\": model.base.state_dict(),}, \"pretrained_model_4layers_no_class_head.pt\")"
      ]
    },
    {
      "cell_type": "code",
      "execution_count": null,
      "metadata": {
        "id": "i-xclMCpnVpw"
      },
      "outputs": [],
      "source": [
        "from_scratch_settings = [True, False]\n",
        "\n",
        "from_scratch_valid_acc = []\n",
        "pretrained_valid_acc = []\n",
        "lr = 0.0001\n",
        "\n",
        "for from_scratch in from_scratch_settings:\n",
        "    model = Model(ntokens, nhead, nhid, nlayers, 2, dropout).to(device)\n",
        "    criterion = nn.CrossEntropyLoss()\n",
        "    optimizer = torch.optim.Adam(model.parameters(), lr=lr)\n",
        "    if not from_scratch:\n",
        "        print(\"=====PRETRAINED MODEL======\")\n",
        "        #load checkpoint\n",
        "        checkpoint = torch.load(\"pretrained_model_4layers_no_class_head.pt\")\n",
        "        #load state dict\n",
        "        model.base.load_state_dict(checkpoint['model_state_dict'])\n",
        "    else:\n",
        "        print(\"=====Trainig FROM SCRATCH======\")\n",
        "    epochs = 15\n",
        "    for epoch in range(1, epochs + 1):\n",
        "        train(\n",
        "            path_data_train,\n",
        "            path_labels_train,\n",
        "            save_interval=-1,\n",
        "            task='classification',\n",
        "            batch_size=8,\n",
        "            log_interval=50,\n",
        "        )\n",
        "        acc = evaluate_accuracy(\n",
        "            get_loader(\n",
        "                path_data_valid,\n",
        "                path_labels_valid,\n",
        "                token2ind=token2ind,\n",
        "                batch_size=20,\n",
        "                task='classification',\n",
        "            )\n",
        "        )\n",
        "        if from_scratch:\n",
        "            from_scratch_valid_acc.append(acc)\n",
        "        else:\n",
        "            pretrained_valid_acc.append(acc)\n",
        "    print()"
      ]
    },
    {
      "cell_type": "code",
      "execution_count": 30,
      "metadata": {
        "id": "RCpBIdTHojm6",
        "colab": {
          "base_uri": "https://localhost:8080/",
          "height": 447
        },
        "outputId": "5e0c6317-73cb-4bc2-e6de-8bde91d19f20"
      },
      "outputs": [
        {
          "output_type": "execute_result",
          "data": {
            "text/plain": [
              "<matplotlib.legend.Legend at 0x7edff3793370>"
            ]
          },
          "metadata": {},
          "execution_count": 30
        },
        {
          "output_type": "display_data",
          "data": {
            "text/plain": [
              "<Figure size 640x480 with 1 Axes>"
            ],
            "image/png": "[encoded data removed]"
          },
          "metadata": {}
        }
      ],
      "source": [
        "#Visualize the accuracy\n",
        "import matplotlib.pyplot as plt\n",
        "plt.plot(from_scratch_valid_acc, label='from scratch')\n",
        "plt.plot(pretrained_valid_acc, label='pretrained')\n",
        "plt.legend()\n"
      ]
    },
    {
      "cell_type": "markdown",
      "source": [
        "In the context of our model training, we compare both models, analyzing their respective performances and how they evolve across training epochs.\n",
        "\n",
        "**Pretrained Model (Top accuracy: 80%):**\n",
        "Initialized with weights learned from a vast amount of text data, the pretrained model begins with a higher accuracy compared to the second model. This initial advantage is expected since it carries knowledge from the pretrained weights. As the training progresses over multiple epochs, the accuracy of the model steadily improves, reaching a peak accuracy of 80%. This indicates that it has effectively leveraged the prior knowledge gained from pretraining, acquiring valuable features and representations from the large text corpus. This enhances its performance on the target task.\n",
        "\n",
        "**From Scratch Model (Top accuracy: 78%):**\n",
        "Conversely, the from scratch model starts with a lower accuracy compared to the pretrained model. This discrepancy arises from the fact that it begins with randomly initialized weights, devoid of any prior knowledge. As the training progresses, its accuracy improves, reaching a peak of 78%.\n",
        "\n",
        "**Interpretation:**\n",
        "The gap between the accuracy curves for both models clearly highlights the advantages of transfer learning using a pretrained model. The pretrained model consistently outperforms the from scratch model in terms of final accuracy. The higher initial accuracy reveals its capability to start with a head start in the fine-tuning task, as it has already acquired valuable features during pretraining, such as knowledge, semantics, and words polysemy. This demonstrates the importance of general natural language understanding.\n"
      ],
      "metadata": {
        "id": "lv3lkoFTkdIH"
      }
    },
    {
      "cell_type": "code",
      "source": [
        "# predict some data classification of the pretrained model\n",
        "def predict(path_data_test, path_labels_test=None):\n",
        "    model.eval()\n",
        "    data_loader = get_loader(\n",
        "        path_data_test,\n",
        "        path_labels_test,\n",
        "        token2ind=token2ind,\n",
        "        batch_size=1,\n",
        "        task='classification',\n",
        "    )\n",
        "    i= 0\n",
        "    for idx, data in enumerate(data_loader):\n",
        "        src_mask = model.base.generate_square_subsequent_mask(data[0].size(0)).to(\n",
        "            device\n",
        "        )\n",
        "        input = data[0].to(device)\n",
        "        output = model(input, src_mask)\n",
        "        output = output[-1]\n",
        "        prediction = torch.argmax(output, dim=1)\n",
        "        ground_truth = data[1].item()\n",
        "\n",
        "        # print original text and it's prediction classification\n",
        "        if prediction == ground_truth:\n",
        "            prediction_text = f'\\033[92m{\"Positive\" if prediction == 1 else \"Negative\"}\\033[0m'  # Green\n",
        "            ground_truth_text = f'\\033[92m{\"Positive\" if ground_truth == 1 else \"Negative\"}\\033[0m'  # Green\n",
        "        else:\n",
        "            prediction_text = f'\\033[91m{\"Positive\" if prediction == 1 else \"Negative\"}\\033[0m'  # Red\n",
        "            ground_truth_text = f'\\033[91m{\"Positive\" if ground_truth == 1 else \"Negative\"}\\033[0m'  # Red\n",
        "\n",
        "\n",
        "        # Print the information\n",
        "        print(s.decode_pieces([ind2token[ind.item()] for ind in input[1:]])) # original text decoded from tokens\n",
        "        print(\" --->\")\n",
        "        print(f'Predictions of the review: {prediction_text}')\n",
        "        print(f'Ground Truth review: {ground_truth_text}')\n",
        "        print('= = = = =\\n')\n",
        "\n",
        "        i +=1\n",
        "        if i == 10:\n",
        "            break\n"
      ],
      "metadata": {
        "id": "lKojhKULfS1n"
      },
      "execution_count": 31,
      "outputs": []
    },
    {
      "cell_type": "markdown",
      "source": [
        "__Evaluates the classification predictions of a pretrained model on a given test dataset. It prints the original text along with the model's prediction and the ground truth classification. The output is color-coded (green for correct predictions, red for incorrect predictions.__"
      ],
      "metadata": {
        "id": "6MV-HazllzKy"
      }
    },
    {
      "cell_type": "code",
      "source": [
        "predict(path_data_valid, path_labels_valid)"
      ],
      "metadata": {
        "id": "DdXOSnzlBcvq",
        "colab": {
          "base_uri": "https://localhost:8080/"
        },
        "outputId": "c3dd9a41-545f-453e-9a0e-ffd7f3957395"
      },
      "execution_count": 32,
      "outputs": [
        {
          "output_type": "stream",
          "name": "stdout",
          "text": [
            "ce livres et une vrai drogue! la derniere fois je n' arrivais meme pas a m' arreter!A LIRE ABSOLUMENT!!!!!!!!!!!!!!!\n",
            " --->\n",
            "Predictions of the review: \u001b[91mNegative\u001b[0m\n",
            "Ground Truth review: \u001b[91mPositive\u001b[0m\n",
            "= = = = =\n",
            "\n",
            "Livre agréable et étonnant par sa façon d'abordé l'argetn. J'ai déja un fcp que j'achète à ma banque et j'ai réalisé pas mal d'économies sur la réduction des frais d'entrée ainsi que bien d'autres économies en appliquant les conseils donné dans ce livre. J'ai 2 enfants qui ont des livrets d'épargnes et que j'ai changé pour faire plus que essayer d'absorber l'inflation, maintenant ils créent des richesses.\n",
            " --->\n",
            "Predictions of the review: \u001b[91mNegative\u001b[0m\n",
            "Ground Truth review: \u001b[91mPositive\u001b[0m\n",
            "= = = = =\n",
            "\n",
            "Je ne crois pas avoir déjà lu un livre aussi beau. Je ne savais pas du tout à quoi m'attendre lorsque j'ai ouvert le premier volume, mais au bout de quelques pages, j'étais déjà plongée dans l'histoire. J'ai dévoré les trois tomes à la suite ! C'est le genre d'ouvrage qui vous habite, vous hante, et restera gravé en vous toute votre vie. Je me suis d'ailleurs tellement laissée emportée par cette histoire magnifique que je me suis trouvée à sangloter en m'imaginant faire face au même dilemme que Lyra à la fin du livre (je n'en dis pas plus pour ceux qui n'en sont pas encore arrivés là !). De plus, l'écriture est extrêmement raffinée. Bref, de la grande littérature, que je conseillerais cependant plutôt à des adolescents ou des adultes qu'à des enfants. Merci mille fois Mr Pullman !\n",
            " --->\n",
            "Predictions of the review: \u001b[91mNegative\u001b[0m\n",
            "Ground Truth review: \u001b[91mPositive\u001b[0m\n",
            "= = = = =\n",
            "\n",
            "Il y a ces livres épais qu'on finit trop vite tellement on est pris, et d'autres beaucoup plus courts mais qui nous paraissent une éternité à se terminer. 'Parce que je t'aime' fait partie de la seconde catégorie. Complètement invraisemblable, on arrive pas à rentrer une seconde dans l'histoire des personnages, trop happy end aussi, tout le monde s'aime, personne n'en veut à personne... J'ai toutefois mis une seconde étoile, pour l'histoire d'Evie, la seule à peu près touchante.\n",
            " --->\n",
            "Predictions of the review: \u001b[92mNegative\u001b[0m\n",
            "Ground Truth review: \u001b[92mNegative\u001b[0m\n",
            "= = = = =\n",
            "\n",
            "Je vais faire figure d'exception, mais je n'ai pas apprécié ce roman plein de longueurs et de caricatures. J'ai trouvé que la psychologie des personnages n'était pas assez approfondie et que l'histoire manquait cruellement de rythme. La lecture de ce qui est souvent considéré comme le \"chef d'oeuvre de Wilde\" me laisse un arrière goût d'ennui persistant, je retourne voir le fantôme de Canterville.\n",
            " --->\n",
            "Predictions of the review: \u001b[92mNegative\u001b[0m\n",
            "Ground Truth review: \u001b[92mNegative\u001b[0m\n",
            "= = = = =\n",
            "\n",
            "Absolument magnifique.Personellement j'ai commencé en voyant les films puis j'ai décidé de m'acheter les 3 livres.Malgré quelques lenteurs au début du livre,il raconte exactement le film mais avec beaucoup plus de détails ce qui permet au lecteur de comprendre enfin par exemple qui est Gollum.Toutes les scènes sont détaillés au moindre détail et c'est ce qui nous fait aimer cette lecture.Si vous avez aimé les films,vous aimerez ces livres...\n",
            " --->\n",
            "Predictions of the review: \u001b[92mPositive\u001b[0m\n",
            "Ground Truth review: \u001b[92mPositive\u001b[0m\n",
            "= = = = =\n",
            "\n",
            "Pour ceux qui ne sont pas trop accros de lecture, voici un livre que je vous conseille absolument, tout d'abord il est bien écrit, facile à lire et rédiger de façon qu'on a toujours envie d'en savoir plus au fil des pages, un conte où tout est féerique, et où les aventures de nos héros s'enchainent de page en page, où l'on a envie d'arriver au bout de l'ouvrage pour connaitre enfin la fin de cette agréable aventure à travers le rêve... Les personnages sont attachants, et c'est un conte qui ne fait pas du tout peur, à lire aux alentours de 11 ans et plus\n",
            " --->\n",
            "Predictions of the review: \u001b[92mPositive\u001b[0m\n",
            "Ground Truth review: \u001b[92mPositive\u001b[0m\n",
            "= = = = =\n",
            "\n",
            "Voilà un livre facile à lire contenant toutes les informations nécessaires pour nous motiver à utiliser CSS pour développer nos sites Web et qui nous explique comment l'utiliser. Par contre, je ne mets que 4 étoiles car je trouve son prix un peu exagéré. Ce genre d'ouvrage ne devrait pas dépasser 20 auros.\n",
            " --->\n",
            "Predictions of the review: \u001b[92mPositive\u001b[0m\n",
            "Ground Truth review: \u001b[92mPositive\u001b[0m\n",
            "= = = = =\n",
            "\n",
            "J'ai calé à la page 502... incapable d'aller plus loin.... lourd, pénible, décevant... des détails, des détails, des détails, mais en fait très peu d'actions... Non, franchement, je ne conseille vraiment pas !!\n",
            " --->\n",
            "Predictions of the review: \u001b[92mNegative\u001b[0m\n",
            "Ground Truth review: \u001b[92mNegative\u001b[0m\n",
            "= = = = =\n",
            "\n",
            "Si vous aimez les univers de magie, alors n'hésiter pas , vous ne le regretterez pas ! J'ai été littéralement transporté par ce livre qui allie action et amour dans un mélange de magie tout a fait prenant! D'autant plus qu'il se suit de 5 ouvrages différents qui nous laisse le tps d'en profiter au maximum. Mais attention ... si vous vous y accrocher, ne compter pas vous en défair! Sa deviendra une obscession jusqu'a avoir fini tte l'histoir! J'ai moi meme énormément apprécié le seigneur des anneaux. Si celui-ci n'est pas mieux, il est au moins aussi bien avec l'avantage d'etre plus facile à lire!\n",
            " --->\n",
            "Predictions of the review: \u001b[92mPositive\u001b[0m\n",
            "Ground Truth review: \u001b[92mPositive\u001b[0m\n",
            "= = = = =\n",
            "\n"
          ]
        }
      ]
    },
    {
      "cell_type": "markdown",
      "source": [
        "##__<center>END</center>__"
      ],
      "metadata": {
        "id": "DFNzIc4rmHtC"
      }
    }
  ],
  "metadata": {
    "accelerator": "GPU",
    "colab": {
      "provenance": [],
      "gpuType": "T4"
    },
    "kernelspec": {
      "display_name": "Python 3",
      "name": "python3"
    },
    "language_info": {
      "name": "python",
      "version": "3.6.15"
    },
    "vscode": {
      "interpreter": {
        "hash": "1f3cfdeab8dd8f9900bd16266619de191cf0f5e09365d74b1fba1714dce58066"
      }
    }
  },
  "nbformat": 4,
  "nbformat_minor": 0
}